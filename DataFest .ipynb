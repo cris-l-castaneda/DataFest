{
 "cells": [
  {
   "cell_type": "code",
   "execution_count": 16,
   "metadata": {},
   "outputs": [],
   "source": [
    "import pandas as pd"
   ]
  },
  {
   "cell_type": "code",
   "execution_count": 17,
   "metadata": {},
   "outputs": [],
   "source": [
    "player_29 = pd.read_csv(\"player-6486029.csv\")"
   ]
  },
  {
   "cell_type": "code",
   "execution_count": 19,
   "metadata": {},
   "outputs": [
    {
     "data": {
      "text/html": [
       "<div>\n",
       "<style scoped>\n",
       "    .dataframe tbody tr th:only-of-type {\n",
       "        vertical-align: middle;\n",
       "    }\n",
       "\n",
       "    .dataframe tbody tr th {\n",
       "        vertical-align: top;\n",
       "    }\n",
       "\n",
       "    .dataframe thead th {\n",
       "        text-align: right;\n",
       "    }\n",
       "</style>\n",
       "<table border=\"1\" class=\"dataframe\">\n",
       "  <thead>\n",
       "    <tr style=\"text-align: right;\">\n",
       "      <th></th>\n",
       "      <th>row_id</th>\n",
       "      <th>player_id</th>\n",
       "      <th>school</th>\n",
       "      <th>wave</th>\n",
       "      <th>session</th>\n",
       "      <th>date</th>\n",
       "      <th>event_id</th>\n",
       "      <th>event_description</th>\n",
       "      <th>event_category</th>\n",
       "      <th>event_time</th>\n",
       "      <th>...</th>\n",
       "      <th>piece2_id</th>\n",
       "      <th>piece3_id</th>\n",
       "      <th>opponent_point_loss</th>\n",
       "      <th>player_points</th>\n",
       "      <th>opponent_points</th>\n",
       "      <th>old_rating</th>\n",
       "      <th>new_rating</th>\n",
       "      <th>priority_type_that_went_to_zero</th>\n",
       "      <th>epilogue_item_id</th>\n",
       "      <th>item_locked_unlocked_state</th>\n",
       "    </tr>\n",
       "  </thead>\n",
       "  <tbody>\n",
       "    <tr>\n",
       "      <th>0</th>\n",
       "      <td>972219</td>\n",
       "      <td>6486029</td>\n",
       "      <td>647</td>\n",
       "      <td>Spring (Wave 1) 2014 Class 1</td>\n",
       "      <td>Session 1</td>\n",
       "      <td>2/11/2014</td>\n",
       "      <td>600</td>\n",
       "      <td>Player selects age</td>\n",
       "      <td>Avatar Creation</td>\n",
       "      <td>16S</td>\n",
       "      <td>...</td>\n",
       "      <td>NaN</td>\n",
       "      <td>NaN</td>\n",
       "      <td>NaN</td>\n",
       "      <td>NaN</td>\n",
       "      <td>NaN</td>\n",
       "      <td>NaN</td>\n",
       "      <td>NaN</td>\n",
       "      <td>NaN</td>\n",
       "      <td>NaN</td>\n",
       "      <td>NaN</td>\n",
       "    </tr>\n",
       "    <tr>\n",
       "      <th>1</th>\n",
       "      <td>972220</td>\n",
       "      <td>6486029</td>\n",
       "      <td>647</td>\n",
       "      <td>Spring (Wave 1) 2014 Class 1</td>\n",
       "      <td>Session 1</td>\n",
       "      <td>2/11/2014</td>\n",
       "      <td>601</td>\n",
       "      <td>Player selects gender</td>\n",
       "      <td>Avatar Creation</td>\n",
       "      <td>17S</td>\n",
       "      <td>...</td>\n",
       "      <td>NaN</td>\n",
       "      <td>NaN</td>\n",
       "      <td>NaN</td>\n",
       "      <td>NaN</td>\n",
       "      <td>NaN</td>\n",
       "      <td>NaN</td>\n",
       "      <td>NaN</td>\n",
       "      <td>NaN</td>\n",
       "      <td>NaN</td>\n",
       "      <td>NaN</td>\n",
       "    </tr>\n",
       "    <tr>\n",
       "      <th>2</th>\n",
       "      <td>972221</td>\n",
       "      <td>6486029</td>\n",
       "      <td>647</td>\n",
       "      <td>Spring (Wave 1) 2014 Class 1</td>\n",
       "      <td>Session 1</td>\n",
       "      <td>2/11/2014</td>\n",
       "      <td>602</td>\n",
       "      <td>Player commits to age and gender</td>\n",
       "      <td>Avatar Creation</td>\n",
       "      <td>18S</td>\n",
       "      <td>...</td>\n",
       "      <td>NaN</td>\n",
       "      <td>NaN</td>\n",
       "      <td>NaN</td>\n",
       "      <td>NaN</td>\n",
       "      <td>NaN</td>\n",
       "      <td>NaN</td>\n",
       "      <td>NaN</td>\n",
       "      <td>NaN</td>\n",
       "      <td>NaN</td>\n",
       "      <td>NaN</td>\n",
       "    </tr>\n",
       "    <tr>\n",
       "      <th>3</th>\n",
       "      <td>972222</td>\n",
       "      <td>6486029</td>\n",
       "      <td>647</td>\n",
       "      <td>Spring (Wave 1) 2014 Class 1</td>\n",
       "      <td>Session 1</td>\n",
       "      <td>2/11/2014</td>\n",
       "      <td>603</td>\n",
       "      <td>Player selects avatar</td>\n",
       "      <td>Avatar Creation</td>\n",
       "      <td>21S</td>\n",
       "      <td>...</td>\n",
       "      <td>NaN</td>\n",
       "      <td>NaN</td>\n",
       "      <td>NaN</td>\n",
       "      <td>NaN</td>\n",
       "      <td>NaN</td>\n",
       "      <td>NaN</td>\n",
       "      <td>NaN</td>\n",
       "      <td>NaN</td>\n",
       "      <td>NaN</td>\n",
       "      <td>NaN</td>\n",
       "    </tr>\n",
       "    <tr>\n",
       "      <th>4</th>\n",
       "      <td>972223</td>\n",
       "      <td>6486029</td>\n",
       "      <td>647</td>\n",
       "      <td>Spring (Wave 1) 2014 Class 1</td>\n",
       "      <td>Session 1</td>\n",
       "      <td>2/11/2014</td>\n",
       "      <td>604</td>\n",
       "      <td>Player commits to avatar and name</td>\n",
       "      <td>Avatar Creation</td>\n",
       "      <td>25S</td>\n",
       "      <td>...</td>\n",
       "      <td>NaN</td>\n",
       "      <td>NaN</td>\n",
       "      <td>NaN</td>\n",
       "      <td>NaN</td>\n",
       "      <td>NaN</td>\n",
       "      <td>NaN</td>\n",
       "      <td>NaN</td>\n",
       "      <td>NaN</td>\n",
       "      <td>NaN</td>\n",
       "      <td>NaN</td>\n",
       "    </tr>\n",
       "  </tbody>\n",
       "</table>\n",
       "<p>5 rows × 132 columns</p>\n",
       "</div>"
      ],
      "text/plain": [
       "   row_id  player_id  school                          wave    session  \\\n",
       "0  972219    6486029     647  Spring (Wave 1) 2014 Class 1  Session 1   \n",
       "1  972220    6486029     647  Spring (Wave 1) 2014 Class 1  Session 1   \n",
       "2  972221    6486029     647  Spring (Wave 1) 2014 Class 1  Session 1   \n",
       "3  972222    6486029     647  Spring (Wave 1) 2014 Class 1  Session 1   \n",
       "4  972223    6486029     647  Spring (Wave 1) 2014 Class 1  Session 1   \n",
       "\n",
       "        date  event_id                  event_description   event_category  \\\n",
       "0  2/11/2014       600                 Player selects age  Avatar Creation   \n",
       "1  2/11/2014       601              Player selects gender  Avatar Creation   \n",
       "2  2/11/2014       602   Player commits to age and gender  Avatar Creation   \n",
       "3  2/11/2014       603              Player selects avatar  Avatar Creation   \n",
       "4  2/11/2014       604  Player commits to avatar and name  Avatar Creation   \n",
       "\n",
       "  event_time  ...  piece2_id  piece3_id opponent_point_loss player_points  \\\n",
       "0        16S  ...        NaN        NaN                 NaN           NaN   \n",
       "1        17S  ...        NaN        NaN                 NaN           NaN   \n",
       "2        18S  ...        NaN        NaN                 NaN           NaN   \n",
       "3        21S  ...        NaN        NaN                 NaN           NaN   \n",
       "4        25S  ...        NaN        NaN                 NaN           NaN   \n",
       "\n",
       "  opponent_points  old_rating  new_rating  priority_type_that_went_to_zero  \\\n",
       "0             NaN         NaN         NaN                              NaN   \n",
       "1             NaN         NaN         NaN                              NaN   \n",
       "2             NaN         NaN         NaN                              NaN   \n",
       "3             NaN         NaN         NaN                              NaN   \n",
       "4             NaN         NaN         NaN                              NaN   \n",
       "\n",
       "   epilogue_item_id  item_locked_unlocked_state  \n",
       "0               NaN                         NaN  \n",
       "1               NaN                         NaN  \n",
       "2               NaN                         NaN  \n",
       "3               NaN                         NaN  \n",
       "4               NaN                         NaN  \n",
       "\n",
       "[5 rows x 132 columns]"
      ]
     },
     "execution_count": 19,
     "metadata": {},
     "output_type": "execute_result"
    }
   ],
   "source": [
    "player_29.head()"
   ]
  },
  {
   "cell_type": "code",
   "execution_count": 20,
   "metadata": {
    "scrolled": true
   },
   "outputs": [
    {
     "data": {
      "text/html": [
       "<div>\n",
       "<style scoped>\n",
       "    .dataframe tbody tr th:only-of-type {\n",
       "        vertical-align: middle;\n",
       "    }\n",
       "\n",
       "    .dataframe tbody tr th {\n",
       "        vertical-align: top;\n",
       "    }\n",
       "\n",
       "    .dataframe thead th {\n",
       "        text-align: right;\n",
       "    }\n",
       "</style>\n",
       "<table border=\"1\" class=\"dataframe\">\n",
       "  <thead>\n",
       "    <tr style=\"text-align: right;\">\n",
       "      <th></th>\n",
       "      <th>row_id</th>\n",
       "      <th>player_id</th>\n",
       "      <th>school</th>\n",
       "      <th>wave</th>\n",
       "      <th>session</th>\n",
       "      <th>date</th>\n",
       "      <th>event_id</th>\n",
       "      <th>event_description</th>\n",
       "      <th>event_category</th>\n",
       "      <th>event_time</th>\n",
       "      <th>...</th>\n",
       "      <th>piece2_id</th>\n",
       "      <th>piece3_id</th>\n",
       "      <th>opponent_point_loss</th>\n",
       "      <th>player_points</th>\n",
       "      <th>opponent_points</th>\n",
       "      <th>old_rating</th>\n",
       "      <th>new_rating</th>\n",
       "      <th>priority_type_that_went_to_zero</th>\n",
       "      <th>epilogue_item_id</th>\n",
       "      <th>item_locked_unlocked_state</th>\n",
       "    </tr>\n",
       "  </thead>\n",
       "  <tbody>\n",
       "    <tr>\n",
       "      <th>17158</th>\n",
       "      <td>989377</td>\n",
       "      <td>6486029</td>\n",
       "      <td>647</td>\n",
       "      <td>Spring (Wave 1) 2014 Class 1</td>\n",
       "      <td>Session 9</td>\n",
       "      <td>3/25/2014</td>\n",
       "      <td>708</td>\n",
       "      <td>Player hits done button</td>\n",
       "      <td>Epilogue</td>\n",
       "      <td>7H 21M 23S</td>\n",
       "      <td>...</td>\n",
       "      <td>NaN</td>\n",
       "      <td>NaN</td>\n",
       "      <td>NaN</td>\n",
       "      <td>NaN</td>\n",
       "      <td>NaN</td>\n",
       "      <td>NaN</td>\n",
       "      <td>NaN</td>\n",
       "      <td>NaN</td>\n",
       "      <td>NaN</td>\n",
       "      <td>NaN</td>\n",
       "    </tr>\n",
       "  </tbody>\n",
       "</table>\n",
       "<p>1 rows × 132 columns</p>\n",
       "</div>"
      ],
      "text/plain": [
       "       row_id  player_id  school                          wave    session  \\\n",
       "17158  989377    6486029     647  Spring (Wave 1) 2014 Class 1  Session 9   \n",
       "\n",
       "            date  event_id        event_description event_category  \\\n",
       "17158  3/25/2014       708  Player hits done button       Epilogue   \n",
       "\n",
       "       event_time  ...  piece2_id  piece3_id opponent_point_loss  \\\n",
       "17158  7H 21M 23S  ...        NaN        NaN                 NaN   \n",
       "\n",
       "      player_points opponent_points  old_rating  new_rating  \\\n",
       "17158           NaN             NaN         NaN         NaN   \n",
       "\n",
       "       priority_type_that_went_to_zero  epilogue_item_id  \\\n",
       "17158                              NaN               NaN   \n",
       "\n",
       "       item_locked_unlocked_state  \n",
       "17158                         NaN  \n",
       "\n",
       "[1 rows x 132 columns]"
      ]
     },
     "execution_count": 20,
     "metadata": {},
     "output_type": "execute_result"
    }
   ],
   "source": [
    "# amount of time spent playing by player 29\n",
    "player_29.sort_values(\"event_time_dbl\", ascending = False).head(1)"
   ]
  },
  {
   "cell_type": "code",
   "execution_count": 21,
   "metadata": {},
   "outputs": [],
   "source": [
    "logs = pd.read_csv(\"logs.csv\")"
   ]
  },
  {
   "cell_type": "code",
   "execution_count": 22,
   "metadata": {},
   "outputs": [
    {
     "data": {
      "text/html": [
       "<div>\n",
       "<style scoped>\n",
       "    .dataframe tbody tr th:only-of-type {\n",
       "        vertical-align: middle;\n",
       "    }\n",
       "\n",
       "    .dataframe tbody tr th {\n",
       "        vertical-align: top;\n",
       "    }\n",
       "\n",
       "    .dataframe thead th {\n",
       "        text-align: right;\n",
       "    }\n",
       "</style>\n",
       "<table border=\"1\" class=\"dataframe\">\n",
       "  <thead>\n",
       "    <tr style=\"text-align: right;\">\n",
       "      <th></th>\n",
       "      <th>row_id</th>\n",
       "      <th>player_id</th>\n",
       "      <th>school</th>\n",
       "      <th>wave</th>\n",
       "      <th>session</th>\n",
       "      <th>date</th>\n",
       "      <th>event_id</th>\n",
       "      <th>event_description</th>\n",
       "      <th>event_category</th>\n",
       "      <th>event_time</th>\n",
       "      <th>...</th>\n",
       "      <th>piece2_id</th>\n",
       "      <th>piece3_id</th>\n",
       "      <th>opponent_point_loss</th>\n",
       "      <th>player_points</th>\n",
       "      <th>opponent_points</th>\n",
       "      <th>old_rating</th>\n",
       "      <th>new_rating</th>\n",
       "      <th>priority_type_that_went_to_zero</th>\n",
       "      <th>epilogue_item_id</th>\n",
       "      <th>item_locked_unlocked_state</th>\n",
       "    </tr>\n",
       "  </thead>\n",
       "  <tbody>\n",
       "    <tr>\n",
       "      <th>0</th>\n",
       "      <td>1</td>\n",
       "      <td>6427001</td>\n",
       "      <td>3561</td>\n",
       "      <td>3561 (T,TH) Spring 2013</td>\n",
       "      <td>Session 1</td>\n",
       "      <td>2013-03-07</td>\n",
       "      <td>600</td>\n",
       "      <td>Player selects age</td>\n",
       "      <td>Avatar Creation</td>\n",
       "      <td>3M 18S</td>\n",
       "      <td>...</td>\n",
       "      <td>NaN</td>\n",
       "      <td>NaN</td>\n",
       "      <td>NaN</td>\n",
       "      <td>NaN</td>\n",
       "      <td>NaN</td>\n",
       "      <td>NaN</td>\n",
       "      <td>NaN</td>\n",
       "      <td>NaN</td>\n",
       "      <td>NaN</td>\n",
       "      <td>NaN</td>\n",
       "    </tr>\n",
       "    <tr>\n",
       "      <th>1</th>\n",
       "      <td>2</td>\n",
       "      <td>6427001</td>\n",
       "      <td>3561</td>\n",
       "      <td>3561 (T,TH) Spring 2013</td>\n",
       "      <td>Session 1</td>\n",
       "      <td>2013-03-07</td>\n",
       "      <td>601</td>\n",
       "      <td>Player selects gender</td>\n",
       "      <td>Avatar Creation</td>\n",
       "      <td>3M 19S</td>\n",
       "      <td>...</td>\n",
       "      <td>NaN</td>\n",
       "      <td>NaN</td>\n",
       "      <td>NaN</td>\n",
       "      <td>NaN</td>\n",
       "      <td>NaN</td>\n",
       "      <td>NaN</td>\n",
       "      <td>NaN</td>\n",
       "      <td>NaN</td>\n",
       "      <td>NaN</td>\n",
       "      <td>NaN</td>\n",
       "    </tr>\n",
       "    <tr>\n",
       "      <th>2</th>\n",
       "      <td>3</td>\n",
       "      <td>6427001</td>\n",
       "      <td>3561</td>\n",
       "      <td>3561 (T,TH) Spring 2013</td>\n",
       "      <td>Session 1</td>\n",
       "      <td>2013-03-07</td>\n",
       "      <td>602</td>\n",
       "      <td>Player commits to age and gender</td>\n",
       "      <td>Avatar Creation</td>\n",
       "      <td>3M 25S</td>\n",
       "      <td>...</td>\n",
       "      <td>NaN</td>\n",
       "      <td>NaN</td>\n",
       "      <td>NaN</td>\n",
       "      <td>NaN</td>\n",
       "      <td>NaN</td>\n",
       "      <td>NaN</td>\n",
       "      <td>NaN</td>\n",
       "      <td>NaN</td>\n",
       "      <td>NaN</td>\n",
       "      <td>NaN</td>\n",
       "    </tr>\n",
       "    <tr>\n",
       "      <th>3</th>\n",
       "      <td>4</td>\n",
       "      <td>6427001</td>\n",
       "      <td>3561</td>\n",
       "      <td>3561 (T,TH) Spring 2013</td>\n",
       "      <td>Session 1</td>\n",
       "      <td>2013-03-07</td>\n",
       "      <td>603</td>\n",
       "      <td>Player selects avatar</td>\n",
       "      <td>Avatar Creation</td>\n",
       "      <td>3M 30S</td>\n",
       "      <td>...</td>\n",
       "      <td>NaN</td>\n",
       "      <td>NaN</td>\n",
       "      <td>NaN</td>\n",
       "      <td>NaN</td>\n",
       "      <td>NaN</td>\n",
       "      <td>NaN</td>\n",
       "      <td>NaN</td>\n",
       "      <td>NaN</td>\n",
       "      <td>NaN</td>\n",
       "      <td>NaN</td>\n",
       "    </tr>\n",
       "    <tr>\n",
       "      <th>4</th>\n",
       "      <td>5</td>\n",
       "      <td>6427001</td>\n",
       "      <td>3561</td>\n",
       "      <td>3561 (T,TH) Spring 2013</td>\n",
       "      <td>Session 1</td>\n",
       "      <td>2013-03-07</td>\n",
       "      <td>604</td>\n",
       "      <td>Player commits to avatar and name</td>\n",
       "      <td>Avatar Creation</td>\n",
       "      <td>4M 12S</td>\n",
       "      <td>...</td>\n",
       "      <td>NaN</td>\n",
       "      <td>NaN</td>\n",
       "      <td>NaN</td>\n",
       "      <td>NaN</td>\n",
       "      <td>NaN</td>\n",
       "      <td>NaN</td>\n",
       "      <td>NaN</td>\n",
       "      <td>NaN</td>\n",
       "      <td>NaN</td>\n",
       "      <td>NaN</td>\n",
       "    </tr>\n",
       "  </tbody>\n",
       "</table>\n",
       "<p>5 rows × 132 columns</p>\n",
       "</div>"
      ],
      "text/plain": [
       "   row_id  player_id  school                     wave    session        date  \\\n",
       "0       1    6427001    3561  3561 (T,TH) Spring 2013  Session 1  2013-03-07   \n",
       "1       2    6427001    3561  3561 (T,TH) Spring 2013  Session 1  2013-03-07   \n",
       "2       3    6427001    3561  3561 (T,TH) Spring 2013  Session 1  2013-03-07   \n",
       "3       4    6427001    3561  3561 (T,TH) Spring 2013  Session 1  2013-03-07   \n",
       "4       5    6427001    3561  3561 (T,TH) Spring 2013  Session 1  2013-03-07   \n",
       "\n",
       "   event_id                  event_description   event_category event_time  \\\n",
       "0       600                 Player selects age  Avatar Creation     3M 18S   \n",
       "1       601              Player selects gender  Avatar Creation     3M 19S   \n",
       "2       602   Player commits to age and gender  Avatar Creation     3M 25S   \n",
       "3       603              Player selects avatar  Avatar Creation     3M 30S   \n",
       "4       604  Player commits to avatar and name  Avatar Creation     4M 12S   \n",
       "\n",
       "   ...  piece2_id  piece3_id opponent_point_loss player_points  \\\n",
       "0  ...        NaN        NaN                 NaN           NaN   \n",
       "1  ...        NaN        NaN                 NaN           NaN   \n",
       "2  ...        NaN        NaN                 NaN           NaN   \n",
       "3  ...        NaN        NaN                 NaN           NaN   \n",
       "4  ...        NaN        NaN                 NaN           NaN   \n",
       "\n",
       "  opponent_points  old_rating  new_rating  priority_type_that_went_to_zero  \\\n",
       "0             NaN         NaN         NaN                              NaN   \n",
       "1             NaN         NaN         NaN                              NaN   \n",
       "2             NaN         NaN         NaN                              NaN   \n",
       "3             NaN         NaN         NaN                              NaN   \n",
       "4             NaN         NaN         NaN                              NaN   \n",
       "\n",
       "   epilogue_item_id  item_locked_unlocked_state  \n",
       "0               NaN                         NaN  \n",
       "1               NaN                         NaN  \n",
       "2               NaN                         NaN  \n",
       "3               NaN                         NaN  \n",
       "4               NaN                         NaN  \n",
       "\n",
       "[5 rows x 132 columns]"
      ]
     },
     "execution_count": 22,
     "metadata": {},
     "output_type": "execute_result"
    }
   ],
   "source": [
    "logs.head()"
   ]
  },
  {
   "cell_type": "code",
   "execution_count": 23,
   "metadata": {},
   "outputs": [
    {
     "data": {
      "text/plain": [
       "(2106597, 132)"
      ]
     },
     "execution_count": 23,
     "metadata": {},
     "output_type": "execute_result"
    }
   ],
   "source": [
    "logs.shape"
   ]
  },
  {
   "cell_type": "code",
   "execution_count": 24,
   "metadata": {},
   "outputs": [
    {
     "data": {
      "text/plain": [
       "55.87239959839357"
      ]
     },
     "execution_count": 24,
     "metadata": {},
     "output_type": "execute_result"
    }
   ],
   "source": [
    "# What's the average amount of time spent playing across all players?\n",
    "average_time_played = logs.groupby([\"player_id\"])[\"event_time_dbl\"].max().sum() / 166\n",
    "average_time_played / 3600"
   ]
  },
  {
   "cell_type": "code",
   "execution_count": 25,
   "metadata": {},
   "outputs": [
    {
     "data": {
      "text/plain": [
       "13"
      ]
     },
     "execution_count": 25,
     "metadata": {},
     "output_type": "execute_result"
    }
   ],
   "source": [
    "## total of 13 stacks\n",
    "# How many stacks (stories) did player-6486029 complete?\n",
    "complete_stack = player_29[\"event_id\"] == 203\n",
    "sum(1 for x in complete_stack if x)"
   ]
  },
  {
   "cell_type": "code",
   "execution_count": 26,
   "metadata": {},
   "outputs": [
    {
     "data": {
      "text/plain": [
       "13    32\n",
       "12    17\n",
       "10    17\n",
       "3     13\n",
       "7     12\n",
       "8     11\n",
       "1     10\n",
       "5     10\n",
       "6     10\n",
       "9      9\n",
       "11     8\n",
       "2      7\n",
       "4      6\n",
       "26     1\n",
       "14     1\n",
       "15     1\n",
       "30     1\n",
       "dtype: int64"
      ]
     },
     "execution_count": 26,
     "metadata": {},
     "output_type": "execute_result"
    }
   ],
   "source": [
    "# Did player-6486029 finish the game? How many players finished the game?\n",
    "# Yes, player-6486029 finished the game.\n",
    "# There are 36 people that finished the game. \n",
    "finished_game = logs[logs['event_id'] == 203].groupby(\"player_id\").size()\n",
    "finished_game.value_counts()"
   ]
  },
  {
   "cell_type": "markdown",
   "metadata": {},
   "source": [
    "Questions:\n",
    "\n",
    "#1 What proportion of players finished the game?\n",
    "\n",
    "#2 What is the average amount of stacks players completed?\n",
    "\n",
    "#3 Which players had the most playing time?\n",
    "\n",
    "#4 Can youth behavior within games be useful for assessing attitudes concerning real-life risky behavior?\n",
    "\n",
    "#5 How can we use the game logs to characterize, measure, and display patterns of play within the game?\n",
    "\n"
   ]
  },
  {
   "cell_type": "code",
   "execution_count": 13,
   "metadata": {},
   "outputs": [
    {
     "data": {
      "text/plain": [
       "0.21686746987951808"
      ]
     },
     "execution_count": 13,
     "metadata": {},
     "output_type": "execute_result"
    }
   ],
   "source": [
    "# 36 people that finished the game and 166 players total\n",
    "# Approx 22% finished the game.\n",
    "36/166"
   ]
  },
  {
   "cell_type": "code",
   "execution_count": 14,
   "metadata": {},
   "outputs": [
    {
     "data": {
      "text/plain": [
       "8.512048192771084"
      ]
     },
     "execution_count": 14,
     "metadata": {},
     "output_type": "execute_result"
    }
   ],
   "source": [
    "# About (8.5) 9 is the average, median amount of stacks completed \n",
    "finished_game.mean()"
   ]
  },
  {
   "cell_type": "code",
   "execution_count": 15,
   "metadata": {},
   "outputs": [
    {
     "data": {
      "text/plain": [
       "player_id\n",
       "6607001    3032323\n",
       "6607004    2610596\n",
       "6486019    2184139\n",
       "6626001    2167690\n",
       "6567001    1807325\n",
       "Name: event_time_dbl, dtype: int64"
      ]
     },
     "execution_count": 15,
     "metadata": {},
     "output_type": "execute_result"
    }
   ],
   "source": [
    "# top 5 players\n",
    "top_players = logs.groupby([\"player_id\"])[\"event_time_dbl\"].max().sort_values(ascending=False)\n",
    "top_players[:5]"
   ]
  },
  {
   "cell_type": "code",
   "execution_count": 28,
   "metadata": {},
   "outputs": [
    {
     "data": {
      "text/plain": [
       "wave\n",
       "3561 (M,W) Spring 2013           5\n",
       "3561 (T,TH) Spring 2013          8\n",
       "3561 0647 Fall 2013              5\n",
       "3561 5112 Fall 2013              8\n",
       "3561 Summer 2013 - Group 1       5\n",
       "3561 Summer 2013 - Group 2       3\n",
       "3561 YES! Program Fall 2013      4\n",
       "3561 YES! Troup                  4\n",
       "Fall ( Wave 2) 2013              3\n",
       "Fall (Wave 1) 2013               9\n",
       "Fall (Wave 2) 2013               3\n",
       "Fall 2013                        4\n",
       "Single wave                     38\n",
       "Spring (Wave 1) 2014 Class 1    11\n",
       "Spring (Wave 2) 2014 Class 2     6\n",
       "Spring 2013                     11\n",
       "Spring 2014 Wave 2              14\n",
       "Spring 2014 Wave 3               5\n",
       "Spring 2014~ Wave 1             11\n",
       "Summer 2013                      9\n",
       "Name: player_id, dtype: int64"
      ]
     },
     "execution_count": 28,
     "metadata": {},
     "output_type": "execute_result"
    }
   ],
   "source": [
    "# how many students in each wave?\n",
    "wave = logs.groupby([\"wave\"])[\"player_id\"].nunique()\n",
    "wave"
   ]
  },
  {
   "cell_type": "code",
   "execution_count": 29,
   "metadata": {},
   "outputs": [
    {
     "data": {
      "text/plain": [
       "<matplotlib.axes._subplots.AxesSubplot at 0x2427dc9cfc8>"
      ]
     },
     "execution_count": 29,
     "metadata": {},
     "output_type": "execute_result"
    },
    {
     "data": {
      "image/png": "[encoded data removed]",
      "text/plain": [
       "<Figure size 432x288 with 1 Axes>"
      ]
     },
     "metadata": {
      "needs_background": "light"
     },
     "output_type": "display_data"
    }
   ],
   "source": [
    "wave.plot.barh()"
   ]
  },
  {
   "cell_type": "code",
   "execution_count": 20,
   "metadata": {},
   "outputs": [],
   "source": [
    "## compare players by:\n",
    "## wave \n",
    "## average time per stack completion - students who take longer to \n",
    "## complete the stack less/more likely to finish?\n",
    "## how to group the students? \n",
    "## differences within & between schools\n",
    "# summary stats for each player \n"
   ]
  },
  {
   "cell_type": "code",
   "execution_count": 30,
   "metadata": {},
   "outputs": [
    {
     "data": {
      "text/plain": [
       "(240, 3)"
      ]
     },
     "execution_count": 30,
     "metadata": {},
     "output_type": "execute_result"
    }
   ],
   "source": [
    "s5_scores = pd.read_csv(\"S5_scores_cleaned.csv\")\n",
    "s5_scores.head(5)\n",
    "s5_scores.shape"
   ]
  },
  {
   "cell_type": "code",
   "execution_count": 31,
   "metadata": {},
   "outputs": [],
   "source": [
    "finished_game_per_player = logs[logs['event_id'] == 203].groupby(\"player_id\").size()\n",
    "#finished_game_per_player"
   ]
  },
  {
   "cell_type": "code",
   "execution_count": 32,
   "metadata": {},
   "outputs": [
    {
     "data": {
      "text/html": [
       "<div>\n",
       "<style scoped>\n",
       "    .dataframe tbody tr th:only-of-type {\n",
       "        vertical-align: middle;\n",
       "    }\n",
       "\n",
       "    .dataframe tbody tr th {\n",
       "        vertical-align: top;\n",
       "    }\n",
       "\n",
       "    .dataframe thead th {\n",
       "        text-align: right;\n",
       "    }\n",
       "</style>\n",
       "<table border=\"1\" class=\"dataframe\">\n",
       "  <thead>\n",
       "    <tr style=\"text-align: right;\">\n",
       "      <th>weeks</th>\n",
       "      <th>0</th>\n",
       "      <th>3</th>\n",
       "      <th>6</th>\n",
       "      <th>12</th>\n",
       "      <th>24</th>\n",
       "      <th>average_score</th>\n",
       "    </tr>\n",
       "    <tr>\n",
       "      <th>player_id</th>\n",
       "      <th></th>\n",
       "      <th></th>\n",
       "      <th></th>\n",
       "      <th></th>\n",
       "      <th></th>\n",
       "      <th></th>\n",
       "    </tr>\n",
       "  </thead>\n",
       "  <tbody>\n",
       "    <tr>\n",
       "      <th>6427001.0</th>\n",
       "      <td>3.9</td>\n",
       "      <td>3.9</td>\n",
       "      <td>3.875</td>\n",
       "      <td>NaN</td>\n",
       "      <td>NaN</td>\n",
       "      <td>3.8875</td>\n",
       "    </tr>\n",
       "    <tr>\n",
       "      <th>6427027.0</th>\n",
       "      <td>3.8</td>\n",
       "      <td>4.0</td>\n",
       "      <td>4.000</td>\n",
       "      <td>3.8</td>\n",
       "      <td>3.6</td>\n",
       "      <td>3.8500</td>\n",
       "    </tr>\n",
       "    <tr>\n",
       "      <th>6427030.0</th>\n",
       "      <td>2.9</td>\n",
       "      <td>3.0</td>\n",
       "      <td>3.200</td>\n",
       "      <td>3.3</td>\n",
       "      <td>3.5</td>\n",
       "      <td>3.2500</td>\n",
       "    </tr>\n",
       "    <tr>\n",
       "      <th>6427032.0</th>\n",
       "      <td>4.0</td>\n",
       "      <td>3.9</td>\n",
       "      <td>4.000</td>\n",
       "      <td>3.9</td>\n",
       "      <td>3.8</td>\n",
       "      <td>3.9000</td>\n",
       "    </tr>\n",
       "    <tr>\n",
       "      <th>6427034.0</th>\n",
       "      <td>4.0</td>\n",
       "      <td>3.8</td>\n",
       "      <td>4.000</td>\n",
       "      <td>3.9</td>\n",
       "      <td>4.0</td>\n",
       "      <td>3.9250</td>\n",
       "    </tr>\n",
       "    <tr>\n",
       "      <th>...</th>\n",
       "      <td>...</td>\n",
       "      <td>...</td>\n",
       "      <td>...</td>\n",
       "      <td>...</td>\n",
       "      <td>...</td>\n",
       "      <td>...</td>\n",
       "    </tr>\n",
       "    <tr>\n",
       "      <th>6607007.0</th>\n",
       "      <td>4.0</td>\n",
       "      <td>4.0</td>\n",
       "      <td>4.000</td>\n",
       "      <td>4.0</td>\n",
       "      <td>4.0</td>\n",
       "      <td>4.0000</td>\n",
       "    </tr>\n",
       "    <tr>\n",
       "      <th>6607008.0</th>\n",
       "      <td>3.9</td>\n",
       "      <td>NaN</td>\n",
       "      <td>3.900</td>\n",
       "      <td>3.9</td>\n",
       "      <td>3.9</td>\n",
       "      <td>3.9000</td>\n",
       "    </tr>\n",
       "    <tr>\n",
       "      <th>6607009.0</th>\n",
       "      <td>4.0</td>\n",
       "      <td>4.0</td>\n",
       "      <td>3.900</td>\n",
       "      <td>4.0</td>\n",
       "      <td>4.0</td>\n",
       "      <td>3.9750</td>\n",
       "    </tr>\n",
       "    <tr>\n",
       "      <th>6607010.0</th>\n",
       "      <td>4.0</td>\n",
       "      <td>4.0</td>\n",
       "      <td>4.000</td>\n",
       "      <td>4.0</td>\n",
       "      <td>4.0</td>\n",
       "      <td>4.0000</td>\n",
       "    </tr>\n",
       "    <tr>\n",
       "      <th>6608002.0</th>\n",
       "      <td>4.0</td>\n",
       "      <td>4.0</td>\n",
       "      <td>3.900</td>\n",
       "      <td>4.0</td>\n",
       "      <td>4.0</td>\n",
       "      <td>3.9750</td>\n",
       "    </tr>\n",
       "  </tbody>\n",
       "</table>\n",
       "<p>63 rows × 6 columns</p>\n",
       "</div>"
      ],
      "text/plain": [
       "weeks        0    3      6   12   24  average_score\n",
       "player_id                                          \n",
       "6427001.0  3.9  3.9  3.875  NaN  NaN         3.8875\n",
       "6427027.0  3.8  4.0  4.000  3.8  3.6         3.8500\n",
       "6427030.0  2.9  3.0  3.200  3.3  3.5         3.2500\n",
       "6427032.0  4.0  3.9  4.000  3.9  3.8         3.9000\n",
       "6427034.0  4.0  3.8  4.000  3.9  4.0         3.9250\n",
       "...        ...  ...    ...  ...  ...            ...\n",
       "6607007.0  4.0  4.0  4.000  4.0  4.0         4.0000\n",
       "6607008.0  3.9  NaN  3.900  3.9  3.9         3.9000\n",
       "6607009.0  4.0  4.0  3.900  4.0  4.0         3.9750\n",
       "6607010.0  4.0  4.0  4.000  4.0  4.0         4.0000\n",
       "6608002.0  4.0  4.0  3.900  4.0  4.0         3.9750\n",
       "\n",
       "[63 rows x 6 columns]"
      ]
     },
     "execution_count": 32,
     "metadata": {},
     "output_type": "execute_result"
    }
   ],
   "source": [
    "s5_scores_table = pd.pivot_table(s5_scores,values='S5_mean',index='player_id',columns='weeks')\n",
    "s5_scores_table['average_score'] = s5_scores_table[[3 , 6, 12, 24]].mean(axis=1)\n",
    "\n",
    "s5_scores_table"
   ]
  },
  {
   "cell_type": "code",
   "execution_count": 33,
   "metadata": {},
   "outputs": [],
   "source": [
    "df2 = s5_scores_table.merge(finished_game_per_player.to_frame(), left_index=True, right_index=True)\n",
    "# average score for S5_Scores not including Week_0\n",
    "\n",
    "#df2\n",
    "# add column for if completed "
   ]
  },
  {
   "cell_type": "code",
   "execution_count": 34,
   "metadata": {},
   "outputs": [],
   "source": [
    "# renaming columns on final dataframe\n",
    "df3 = df2.rename(columns={\"0_x\": \"Week_0\", 3:\"Week_3\", 6:\"Week_6\", 12: \"Week_12\", 24:\"Week_24\",  \"0_y\":\"Stacks_Completed\"})\n"
   ]
  },
  {
   "cell_type": "code",
   "execution_count": 36,
   "metadata": {},
   "outputs": [],
   "source": [
    "# true/false column if player completed game\n",
    "df3['Game_Complete'] = df3['Stacks_Completed'].apply(lambda x: 'True' if x >= 13 else 'False')\n",
    "#df3"
   ]
  },
  {
   "cell_type": "code",
   "execution_count": 37,
   "metadata": {},
   "outputs": [],
   "source": [
    "# fixing decimals in columns\n",
    "df3[\"average_score\"] = df3[\"average_score\"].round(decimals = 2)\n",
    "df3[\"Week_6\"] = df3[\"Week_6\"].round(decimals = 2)\n"
   ]
  },
  {
   "cell_type": "code",
   "execution_count": 38,
   "metadata": {},
   "outputs": [],
   "source": [
    "df3 = df3.reset_index()"
   ]
  },
  {
   "cell_type": "code",
   "execution_count": 39,
   "metadata": {},
   "outputs": [],
   "source": [
    "df3.columns\n",
    "df3[\"player_id\"] = df3[\"player_id\"].astype('int')"
   ]
  },
  {
   "cell_type": "code",
   "execution_count": 40,
   "metadata": {},
   "outputs": [
    {
     "data": {
      "text/plain": [
       "player_id             int32\n",
       "Week_0              float64\n",
       "Week_3              float64\n",
       "Week_6              float64\n",
       "Week_12             float64\n",
       "Week_24             float64\n",
       "average_score       float64\n",
       "Stacks_Completed      int64\n",
       "Game_Complete        object\n",
       "dtype: object"
      ]
     },
     "execution_count": 40,
     "metadata": {},
     "output_type": "execute_result"
    }
   ],
   "source": [
    "df3.dtypes"
   ]
  },
  {
   "cell_type": "code",
   "execution_count": 42,
   "metadata": {},
   "outputs": [
    {
     "data": {
      "text/plain": [
       "1816739"
      ]
     },
     "execution_count": 42,
     "metadata": {},
     "output_type": "execute_result"
    }
   ],
   "source": [
    "logs[\"stack_id\"].isnull().sum()"
   ]
  },
  {
   "cell_type": "code",
   "execution_count": 44,
   "metadata": {},
   "outputs": [
    {
     "data": {
      "text/html": [
       "<div>\n",
       "<style scoped>\n",
       "    .dataframe tbody tr th:only-of-type {\n",
       "        vertical-align: middle;\n",
       "    }\n",
       "\n",
       "    .dataframe tbody tr th {\n",
       "        vertical-align: top;\n",
       "    }\n",
       "\n",
       "    .dataframe thead th {\n",
       "        text-align: right;\n",
       "    }\n",
       "</style>\n",
       "<table border=\"1\" class=\"dataframe\">\n",
       "  <thead>\n",
       "    <tr style=\"text-align: right;\">\n",
       "      <th></th>\n",
       "      <th>player_id</th>\n",
       "      <th>wave</th>\n",
       "    </tr>\n",
       "  </thead>\n",
       "  <tbody>\n",
       "    <tr>\n",
       "      <th>0</th>\n",
       "      <td>6427001</td>\n",
       "      <td>3561 (T,TH) Spring 2013</td>\n",
       "    </tr>\n",
       "    <tr>\n",
       "      <th>14997</th>\n",
       "      <td>6427002</td>\n",
       "      <td>3561 (T,TH) Spring 2013</td>\n",
       "    </tr>\n",
       "    <tr>\n",
       "      <th>16804</th>\n",
       "      <td>6427004</td>\n",
       "      <td>3561 (T,TH) Spring 2013</td>\n",
       "    </tr>\n",
       "    <tr>\n",
       "      <th>36596</th>\n",
       "      <td>6427005</td>\n",
       "      <td>3561 (T,TH) Spring 2013</td>\n",
       "    </tr>\n",
       "    <tr>\n",
       "      <th>38169</th>\n",
       "      <td>6427006</td>\n",
       "      <td>3561 (T,TH) Spring 2013</td>\n",
       "    </tr>\n",
       "  </tbody>\n",
       "</table>\n",
       "</div>"
      ],
      "text/plain": [
       "       player_id                     wave\n",
       "0        6427001  3561 (T,TH) Spring 2013\n",
       "14997    6427002  3561 (T,TH) Spring 2013\n",
       "16804    6427004  3561 (T,TH) Spring 2013\n",
       "36596    6427005  3561 (T,TH) Spring 2013\n",
       "38169    6427006  3561 (T,TH) Spring 2013"
      ]
     },
     "execution_count": 44,
     "metadata": {},
     "output_type": "execute_result"
    }
   ],
   "source": [
    "# remove duplicate rows\n",
    "wave_frame = logs.iloc[:, [1,3 ]]\n",
    "wave_frame = wave_frame.drop_duplicates()\n",
    "wave_frame.head()\n"
   ]
  },
  {
   "cell_type": "code",
   "execution_count": 45,
   "metadata": {},
   "outputs": [
    {
     "data": {
      "text/plain": [
       "(61, 10)"
      ]
     },
     "execution_count": 45,
     "metadata": {},
     "output_type": "execute_result"
    }
   ],
   "source": [
    "df4 = pd.merge(df3, wave_frame[[\"player_id\", \"wave\"]], on = \"player_id\", how = 'left')\n",
    "df4.shape"
   ]
  },
  {
   "cell_type": "code",
   "execution_count": 46,
   "metadata": {},
   "outputs": [
    {
     "data": {
      "text/plain": [
       "16"
      ]
     },
     "execution_count": 46,
     "metadata": {},
     "output_type": "execute_result"
    }
   ],
   "source": [
    "len(pd.unique(df4[\"wave\"]))"
   ]
  },
  {
   "cell_type": "code",
   "execution_count": 47,
   "metadata": {},
   "outputs": [
    {
     "data": {
      "image/png": "[encoded data removed]",
      "text/plain": [
       "<Figure size 432x288 with 1 Axes>"
      ]
     },
     "metadata": {
      "needs_background": "light"
     },
     "output_type": "display_data"
    }
   ],
   "source": [
    "ax1 = df4.plot.scatter(x = \"average_score\", y = \"Stacks_Completed\")"
   ]
  },
  {
   "cell_type": "code",
   "execution_count": 48,
   "metadata": {},
   "outputs": [],
   "source": [
    "# export dataframe 3 to csv\n",
    "df3.to_csv(\"df3.csv\")"
   ]
  },
  {
   "cell_type": "code",
   "execution_count": 49,
   "metadata": {},
   "outputs": [
    {
     "data": {
      "text/html": [
       "<div>\n",
       "<style scoped>\n",
       "    .dataframe tbody tr th:only-of-type {\n",
       "        vertical-align: middle;\n",
       "    }\n",
       "\n",
       "    .dataframe tbody tr th {\n",
       "        vertical-align: top;\n",
       "    }\n",
       "\n",
       "    .dataframe thead th {\n",
       "        text-align: right;\n",
       "    }\n",
       "</style>\n",
       "<table border=\"1\" class=\"dataframe\">\n",
       "  <thead>\n",
       "    <tr style=\"text-align: right;\">\n",
       "      <th></th>\n",
       "      <th>player_id</th>\n",
       "      <th>Week_0</th>\n",
       "      <th>Week_3</th>\n",
       "      <th>Week_6</th>\n",
       "      <th>Week_12</th>\n",
       "      <th>Week_24</th>\n",
       "      <th>average_score</th>\n",
       "      <th>Stacks_Completed</th>\n",
       "      <th>Game_Complete</th>\n",
       "      <th>wave</th>\n",
       "    </tr>\n",
       "  </thead>\n",
       "  <tbody>\n",
       "    <tr>\n",
       "      <th>12</th>\n",
       "      <td>6430002</td>\n",
       "      <td>4.0</td>\n",
       "      <td>4.0</td>\n",
       "      <td>4.0</td>\n",
       "      <td>4.0</td>\n",
       "      <td>4.0</td>\n",
       "      <td>4.00</td>\n",
       "      <td>13</td>\n",
       "      <td>True</td>\n",
       "      <td>Summer 2013</td>\n",
       "    </tr>\n",
       "    <tr>\n",
       "      <th>13</th>\n",
       "      <td>6430003</td>\n",
       "      <td>4.0</td>\n",
       "      <td>4.0</td>\n",
       "      <td>3.7</td>\n",
       "      <td>NaN</td>\n",
       "      <td>NaN</td>\n",
       "      <td>3.85</td>\n",
       "      <td>26</td>\n",
       "      <td>True</td>\n",
       "      <td>Summer 2013</td>\n",
       "    </tr>\n",
       "    <tr>\n",
       "      <th>14</th>\n",
       "      <td>6430004</td>\n",
       "      <td>3.9</td>\n",
       "      <td>3.7</td>\n",
       "      <td>3.9</td>\n",
       "      <td>3.8</td>\n",
       "      <td>NaN</td>\n",
       "      <td>3.80</td>\n",
       "      <td>3</td>\n",
       "      <td>False</td>\n",
       "      <td>Summer 2013</td>\n",
       "    </tr>\n",
       "  </tbody>\n",
       "</table>\n",
       "</div>"
      ],
      "text/plain": [
       "    player_id  Week_0  Week_3  Week_6  Week_12  Week_24  average_score  \\\n",
       "12    6430002     4.0     4.0     4.0      4.0      4.0           4.00   \n",
       "13    6430003     4.0     4.0     3.7      NaN      NaN           3.85   \n",
       "14    6430004     3.9     3.7     3.9      3.8      NaN           3.80   \n",
       "\n",
       "    Stacks_Completed Game_Complete         wave  \n",
       "12                13          True  Summer 2013  \n",
       "13                26          True  Summer 2013  \n",
       "14                 3         False  Summer 2013  "
      ]
     },
     "execution_count": 49,
     "metadata": {},
     "output_type": "execute_result"
    }
   ],
   "source": [
    "summer = df4.loc[df4[\"wave\"].str.contains(\"Summer\")]\n",
    "summer\n"
   ]
  },
  {
   "cell_type": "code",
   "execution_count": 52,
   "metadata": {},
   "outputs": [
    {
     "data": {
      "text/html": [
       "<div>\n",
       "<style scoped>\n",
       "    .dataframe tbody tr th:only-of-type {\n",
       "        vertical-align: middle;\n",
       "    }\n",
       "\n",
       "    .dataframe tbody tr th {\n",
       "        vertical-align: top;\n",
       "    }\n",
       "\n",
       "    .dataframe thead th {\n",
       "        text-align: right;\n",
       "    }\n",
       "</style>\n",
       "<table border=\"1\" class=\"dataframe\">\n",
       "  <thead>\n",
       "    <tr style=\"text-align: right;\">\n",
       "      <th></th>\n",
       "      <th>player_id</th>\n",
       "      <th>school</th>\n",
       "      <th>wave</th>\n",
       "      <th>event_time_dbl</th>\n",
       "      <th>stacks_complete</th>\n",
       "      <th>game_complete</th>\n",
       "      <th>avatar_id</th>\n",
       "      <th>avatar_gender</th>\n",
       "      <th>avatar_age</th>\n",
       "      <th>game_days</th>\n",
       "      <th>total_hours_played</th>\n",
       "      <th>game_period</th>\n",
       "      <th>avg_time_stack</th>\n",
       "      <th>season</th>\n",
       "    </tr>\n",
       "  </thead>\n",
       "  <tbody>\n",
       "    <tr>\n",
       "      <th>0</th>\n",
       "      <td>6427001</td>\n",
       "      <td>3561</td>\n",
       "      <td>3561 (T,TH) Spring 2013</td>\n",
       "      <td>37718</td>\n",
       "      <td>13</td>\n",
       "      <td>True</td>\n",
       "      <td>Hispanic</td>\n",
       "      <td>Male</td>\n",
       "      <td>13.0</td>\n",
       "      <td>11</td>\n",
       "      <td>10.48</td>\n",
       "      <td>48.0</td>\n",
       "      <td>2883.461538</td>\n",
       "      <td>spring</td>\n",
       "    </tr>\n",
       "    <tr>\n",
       "      <th>1</th>\n",
       "      <td>6427002</td>\n",
       "      <td>3561</td>\n",
       "      <td>3561 (T,TH) Spring 2013</td>\n",
       "      <td>3735</td>\n",
       "      <td>2</td>\n",
       "      <td>False</td>\n",
       "      <td>African American</td>\n",
       "      <td>Female</td>\n",
       "      <td>13.0</td>\n",
       "      <td>1</td>\n",
       "      <td>1.04</td>\n",
       "      <td>1.0</td>\n",
       "      <td>1423.000000</td>\n",
       "      <td>spring</td>\n",
       "    </tr>\n",
       "    <tr>\n",
       "      <th>2</th>\n",
       "      <td>6427004</td>\n",
       "      <td>3561</td>\n",
       "      <td>3561 (T,TH) Spring 2013</td>\n",
       "      <td>30307</td>\n",
       "      <td>13</td>\n",
       "      <td>True</td>\n",
       "      <td>African American</td>\n",
       "      <td>Female</td>\n",
       "      <td>13.0</td>\n",
       "      <td>9</td>\n",
       "      <td>8.42</td>\n",
       "      <td>34.0</td>\n",
       "      <td>2263.538462</td>\n",
       "      <td>spring</td>\n",
       "    </tr>\n",
       "    <tr>\n",
       "      <th>3</th>\n",
       "      <td>6427005</td>\n",
       "      <td>3561</td>\n",
       "      <td>3561 (T,TH) Spring 2013</td>\n",
       "      <td>3729</td>\n",
       "      <td>1</td>\n",
       "      <td>False</td>\n",
       "      <td>Hispanic</td>\n",
       "      <td>Male</td>\n",
       "      <td>13.0</td>\n",
       "      <td>1</td>\n",
       "      <td>1.04</td>\n",
       "      <td>1.0</td>\n",
       "      <td>810.000000</td>\n",
       "      <td>spring</td>\n",
       "    </tr>\n",
       "    <tr>\n",
       "      <th>4</th>\n",
       "      <td>6427006</td>\n",
       "      <td>3561</td>\n",
       "      <td>3561 (T,TH) Spring 2013</td>\n",
       "      <td>31927</td>\n",
       "      <td>13</td>\n",
       "      <td>True</td>\n",
       "      <td>African American</td>\n",
       "      <td>Female</td>\n",
       "      <td>13.0</td>\n",
       "      <td>10</td>\n",
       "      <td>8.87</td>\n",
       "      <td>50.0</td>\n",
       "      <td>2434.923077</td>\n",
       "      <td>spring</td>\n",
       "    </tr>\n",
       "  </tbody>\n",
       "</table>\n",
       "</div>"
      ],
      "text/plain": [
       "   player_id  school                     wave  event_time_dbl  \\\n",
       "0    6427001    3561  3561 (T,TH) Spring 2013           37718   \n",
       "1    6427002    3561  3561 (T,TH) Spring 2013            3735   \n",
       "2    6427004    3561  3561 (T,TH) Spring 2013           30307   \n",
       "3    6427005    3561  3561 (T,TH) Spring 2013            3729   \n",
       "4    6427006    3561  3561 (T,TH) Spring 2013           31927   \n",
       "\n",
       "   stacks_complete  game_complete         avatar_id avatar_gender  avatar_age  \\\n",
       "0               13           True          Hispanic          Male        13.0   \n",
       "1                2          False  African American        Female        13.0   \n",
       "2               13           True  African American        Female        13.0   \n",
       "3                1          False          Hispanic          Male        13.0   \n",
       "4               13           True  African American        Female        13.0   \n",
       "\n",
       "   game_days  total_hours_played  game_period  avg_time_stack  season  \n",
       "0         11               10.48         48.0     2883.461538  spring  \n",
       "1          1                1.04          1.0     1423.000000  spring  \n",
       "2          9                8.42         34.0     2263.538462  spring  \n",
       "3          1                1.04          1.0      810.000000  spring  \n",
       "4         10                8.87         50.0     2434.923077  spring  "
      ]
     },
     "execution_count": 52,
     "metadata": {},
     "output_type": "execute_result"
    }
   ],
   "source": [
    "# final table from the original 2 mill rows of data \n",
    "# final table highlights each player characteristics\n",
    "stats_total = pd.read_csv(r\"C:\\Users\\19253\\Downloads\\Projects\\student_stats_total.csv\")\n",
    "stats_total.head()"
   ]
  }
 ],
 "metadata": {
  "kernelspec": {
   "display_name": "Python 3.7.6 ('base')",
   "language": "python",
   "name": "python3"
  },
  "language_info": {
   "codemirror_mode": {
    "name": "ipython",
    "version": 3
   },
   "file_extension": ".py",
   "mimetype": "text/x-python",
   "name": "python",
   "nbconvert_exporter": "python",
   "pygments_lexer": "ipython3",
   "version": "3.7.6"
  },
  "vscode": {
   "interpreter": {
    "hash": "282ca5f8a4caa45d8e6ca49cc51ee09e34a394857e999f6827166478ce3a257b"
   }
  }
 },
 "nbformat": 4,
 "nbformat_minor": 4
}
